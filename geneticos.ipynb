{
 "cells": [
  {
   "cell_type": "code",
   "execution_count": null,
   "metadata": {},
   "outputs": [],
   "source": [
    "def get_aptitud(individuo):\n",
    "    conflictos = 0\n",
    "    for i in range(len(individuo)):\n",
    "        for j in range(i + 1, len(individuo)):\n",
    "            if( abs(i - j) == abs(individuo[i] - individuo[j])):\n",
    "                conflictos+=1 ##acá reviso si en las filas columnas diagonales se chocan las reinas.\n",
    "    return conflictos"
   ]
  }
 ],
 "metadata": {
  "language_info": {
   "name": "python"
  }
 },
 "nbformat": 4,
 "nbformat_minor": 2
}
