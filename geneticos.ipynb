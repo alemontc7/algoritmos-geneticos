{
 "cells": [
  {
   "cell_type": "code",
   "execution_count": 1,
   "metadata": {},
   "outputs": [],
   "source": [
    "import random"
   ]
  },
  {
   "cell_type": "code",
   "execution_count": null,
   "metadata": {},
   "outputs": [],
   "source": [
    "def get_aptitud(individuo):\n",
    "    conflictos = 0\n",
    "    for i in range(len(individuo)):\n",
    "        for j in range(i + 1, len(individuo)):\n",
    "            if( abs(i - j) == abs(individuo[i] - individuo[j])):\n",
    "                conflictos+=1 ##acá reviso si en las filas columnas diagonales se chocan las reinas.\n",
    "    return conflictos"
   ]
  },
  {
   "cell_type": "code",
   "execution_count": null,
   "metadata": {},
   "outputs": [],
   "source": [
    "\n",
    "def crossover(papa, mama):\n",
    "    punto = random.randint(1, len(mama) - 1)#generamos un aleatorio entero entre 1 y la longitud del papa o mama\n",
    "    hijo = papa[:punto] + mama[punto:] #hacemos un hijo con la primera parte del papa y la segunda de la mama\n",
    "    return hijo"
   ]
  },
  {
   "cell_type": "code",
   "execution_count": null,
   "metadata": {},
   "outputs": [],
   "source": [
    "def mutacion(individuo, valoracion, tam=2):\n",
    "    for i in range(len(individuo)):\n",
    "        individuo[i] = random.randint(0, len(individuo) - 1)\n",
    "    return individuo"
   ]
  },
  {
   "cell_type": "code",
   "execution_count": null,
   "metadata": {},
   "outputs": [],
   "source": [
    "def seleccion(poblacion, valor, tam=2): \n",
    "    competicion = random.sample(range(poblacion), tam) #se generacn los posibles resultados y se pasan por la funcion de evaluacion\n",
    "    mejor = competicion[0]\n",
    "    for i in competicion[1:]:\n",
    "        if valor[i] < valor[mejor]:\n",
    "            mejor = i\n",
    "    return poblacion[mejor] #el valor nos dará la poblacion fitness"
   ]
  },
  {
   "cell_type": "code",
   "execution_count": null,
   "metadata": {},
   "outputs": [],
   "source": [
    "def algoritmo_genetico(n, tam_poblacion, generaciones, tasa_mutacion):\n",
    "    poblacion = []\n",
    "    for x in range(tam_poblacion):\n",
    "        individuo = [random.randint(0, n-1) for y in range(n)]\n",
    "        poblacion.append(individuo)\n",
    "    for g in range(generaciones):\n",
    "        valor = [get_aptitud(individuo) for individuo in poblacion]\n",
    "        padres = []\n",
    "        for z in range(tam_poblacion // 2):\n",
    "            padre = seleccion(poblacion, valor)\n",
    "            madre = seleccion(poblacion, valor)\n",
    "            padres.append(madre)\n",
    "            madre.append(madre)"
   ]
  }
 ],
 "metadata": {
  "kernelspec": {
   "display_name": "MODELADO",
   "language": "python",
   "name": "python3"
  },
  "language_info": {
   "codemirror_mode": {
    "name": "ipython",
    "version": 3
   },
   "file_extension": ".py",
   "mimetype": "text/x-python",
   "name": "python",
   "nbconvert_exporter": "python",
   "pygments_lexer": "ipython3",
   "version": "3.10.10"
  }
 },
 "nbformat": 4,
 "nbformat_minor": 2
}
